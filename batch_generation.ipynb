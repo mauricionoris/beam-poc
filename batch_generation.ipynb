{
 "cells": [
  {
   "cell_type": "code",
   "execution_count": 1,
   "metadata": {},
   "outputs": [],
   "source": [
    "\n",
    "import warnings\n",
    "import csv\n",
    "warnings.filterwarnings('ignore')\n",
    "import cloudpickle as cp\n",
    "import numpy as np\n",
    "\n",
    "#myModel = cp.load(open('./myserializedModel.pkl','rb'))\n",
    "\n",
    "min = [4.3, 2.0, 1.0, 0.1]\n",
    "max = [7.9, 4.4, 6.9, 2.5]\n",
    "\n",
    "N = 10\n",
    "rr = []\n",
    "rr.append(['Sepal.Length','Sepal.Width','Petal.Length','Petal.Width'])\n",
    "for i in range(N):\n",
    "    r = []\n",
    "    for j in range(4):\n",
    "        r.append(np.random.uniform(min[j],max[j]))\n",
    "    rr.append(r)\n",
    "    \n",
    "\n",
    " \n",
    "\n",
    "file = open('./examples.csv', 'w+', newline ='') \n",
    "with file:     \n",
    "    write = csv.writer(file) \n",
    "    write.writerows(rr) \n",
    "\n",
    "#for i in rr:\n",
    "#    result = myModel.models['KNN']['obj'].predict([i])\n",
    "#    print(i, result, sep='\\n')\n",
    "\t"
   ]
  },
  {
   "cell_type": "code",
   "execution_count": null,
   "metadata": {},
   "outputs": [],
   "source": []
  }
 ],
 "metadata": {
  "kernelspec": {
   "display_name": "Showcase",
   "language": "python",
   "name": "showcase"
  },
  "orig_nbformat": 4
 },
 "nbformat": 4,
 "nbformat_minor": 2
}
